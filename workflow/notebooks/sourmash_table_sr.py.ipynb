{
 "cells": [
  {
   "cell_type": "code",
   "execution_count": null,
   "id": "adaptive-grave",
   "metadata": {
    "tags": [
     "snakemake-job-properties"
    ]
   },
   "outputs": [],
   "source": [
    "\n",
    "######## snakemake preamble start (automatically inserted, do not edit) ########\n",
    "import sys; sys.path.extend(['/home/uzuner/miniconda3/envs/snakemake/lib/python3.9/site-packages', '/home/uzuner/Documents/ReadSimulation/Tumor-microbiome-calling/workflow/rules/notebooks']); import pickle; snakemake = pickle.loads(b\"\\x80\\x04\\x95\\xc1\\x05\\x00\\x00\\x00\\x00\\x00\\x00\\x8c\\x10snakemake.script\\x94\\x8c\\tSnakemake\\x94\\x93\\x94)\\x81\\x94}\\x94(\\x8c\\x05input\\x94\\x8c\\x0csnakemake.io\\x94\\x8c\\nInputFiles\\x94\\x93\\x94)\\x81\\x94\\x8c3/home/uzuner/Desktop/sm-test/mixed_1000_Sample1.csv\\x94a}\\x94(\\x8c\\x06_names\\x94}\\x94\\x8c\\x12_allowed_overrides\\x94]\\x94(\\x8c\\x05index\\x94\\x8c\\x04sort\\x94eh\\x10\\x8c\\tfunctools\\x94\\x8c\\x07partial\\x94\\x93\\x94h\\x06\\x8c\\x19Namedlist._used_attribute\\x94\\x93\\x94\\x85\\x94R\\x94(h\\x16)}\\x94\\x8c\\x05_name\\x94h\\x10sNt\\x94bh\\x11h\\x14h\\x16\\x85\\x94R\\x94(h\\x16)}\\x94h\\x1ah\\x11sNt\\x94bub\\x8c\\x06output\\x94h\\x06\\x8c\\x0bOutputFiles\\x94\\x93\\x94)\\x81\\x94\\x8c%/home/uzuner/Desktop/sm-test/test.txt\\x94a}\\x94(h\\x0c}\\x94h\\x0e]\\x94(h\\x10h\\x11eh\\x10h\\x14h\\x16\\x85\\x94R\\x94(h\\x16)}\\x94h\\x1ah\\x10sNt\\x94bh\\x11h\\x14h\\x16\\x85\\x94R\\x94(h\\x16)}\\x94h\\x1ah\\x11sNt\\x94bub\\x8c\\x06params\\x94h\\x06\\x8c\\x06Params\\x94\\x93\\x94)\\x81\\x94}\\x94(h\\x0c}\\x94h\\x0e]\\x94(h\\x10h\\x11eh\\x10h\\x14h\\x16\\x85\\x94R\\x94(h\\x16)}\\x94h\\x1ah\\x10sNt\\x94bh\\x11h\\x14h\\x16\\x85\\x94R\\x94(h\\x16)}\\x94h\\x1ah\\x11sNt\\x94bub\\x8c\\twildcards\\x94h\\x06\\x8c\\tWildcards\\x94\\x93\\x94)\\x81\\x94}\\x94(h\\x0c}\\x94h\\x0e]\\x94(h\\x10h\\x11eh\\x10h\\x14h\\x16\\x85\\x94R\\x94(h\\x16)}\\x94h\\x1ah\\x10sNt\\x94bh\\x11h\\x14h\\x16\\x85\\x94R\\x94(h\\x16)}\\x94h\\x1ah\\x11sNt\\x94bub\\x8c\\x07threads\\x94K\\x01\\x8c\\tresources\\x94h\\x06\\x8c\\tResources\\x94\\x93\\x94)\\x81\\x94(K\\x01K\\x01e}\\x94(h\\x0c}\\x94(\\x8c\\x06_cores\\x94K\\x00N\\x86\\x94\\x8c\\x06_nodes\\x94K\\x01N\\x86\\x94uh\\x0e]\\x94(h\\x10h\\x11eh\\x10h\\x14h\\x16\\x85\\x94R\\x94(h\\x16)}\\x94h\\x1ah\\x10sNt\\x94bh\\x11h\\x14h\\x16\\x85\\x94R\\x94(h\\x16)}\\x94h\\x1ah\\x11sNt\\x94bhUK\\x01hWK\\x01ub\\x8c\\x03log\\x94h\\x06\\x8c\\x03Log\\x94\\x93\\x94)\\x81\\x94\\x8c&logs/notebooks/sourmash_table-sr.ipynb\\x94a}\\x94(h\\x0c}\\x94\\x8c\\x08notebook\\x94K\\x00N\\x86\\x94sh\\x0e]\\x94(h\\x10h\\x11eh\\x10h\\x14h\\x16\\x85\\x94R\\x94(h\\x16)}\\x94h\\x1ah\\x10sNt\\x94bh\\x11h\\x14h\\x16\\x85\\x94R\\x94(h\\x16)}\\x94h\\x1ah\\x11sNt\\x94bhihfub\\x8c\\x06config\\x94}\\x94(\\x8c\\x11number_of_samples\\x94K\\x01\\x8c\\x07bac_ref\\x94]\\x94(\\x8c\\x1bGCF_006151785.1_ASM615178v1\\x94\\x8c\\x1aGCF_000622225.1_ASM62222v1\\x94e\\x8c\\x01p\\x94]\\x94(M\\xe8\\x03M\\x10'e\\x8c\\x0eshort_read_len\\x94K\\x96\\x8c\\rfold_coverage\\x94K\\n\\x8c\\x0blong_nreads\\x94M\\x88\\x13\\x8c\\x11med_long_read_len\\x94N\\x8c\\x11min_long_read_len\\x94M,\\x01\\x8c\\x11max_long_read_len\\x94M\\xe8\\x03\\x8c\\x07hum_pro\\x94\\x8c-resources/human_NA12878_DNA_FAB49712_albacore\\x94\\x8c\\necoli_read\\x94\\x8c\\tresources\\x94\\x8c\\x07nanosim\\x94\\x8c+/home/uzuner/Documents/Software/NanoSim/src\\x94u\\x8c\\x04rule\\x94\\x8c\\x11sourmash_table_sr\\x94\\x8c\\x0fbench_iteration\\x94N\\x8c\\tscriptdir\\x94\\x8cW/home/uzuner/Documents/ReadSimulation/Tumor-microbiome-calling/workflow/rules/notebooks\\x94ub.\"); from snakemake.logging import logger; logger.printshellcmds = False; import os; os.chdir('/home/uzuner/Documents/ReadSimulation/Tumor-microbiome-calling/workflow');\n",
    "######## snakemake preamble end #########\n"
   ]
  },
  {
   "cell_type": "code",
   "execution_count": null,
   "id": "mighty-basin",
   "metadata": {},
   "outputs": [],
   "source": [
    "# start coding here"
   ]
  }
 ],
 "metadata": {},
 "nbformat": 4,
 "nbformat_minor": 5
}